{
  "nbformat": 4,
  "nbformat_minor": 0,
  "metadata": {
    "colab": {
      "name": "Predict_math_exam_results.ipynb",
      "provenance": [],
      "collapsed_sections": []
    },
    "kernelspec": {
      "name": "python3",
      "display_name": "Python 3"
    },
    "accelerator": "GPU"
  },
  "cells": [
    {
      "cell_type": "code",
      "metadata": {
        "id": "0mhypjVvfjgo",
        "colab_type": "code",
        "colab": {}
      },
      "source": [
        "import numpy as np \n",
        "import pandas as pd \n",
        "from sklearn.model_selection import train_test_split\n",
        "import matplotlib.pyplot as plt \n",
        "import seaborn as sns"
      ],
      "execution_count": 0,
      "outputs": []
    },
    {
      "cell_type": "markdown",
      "metadata": {
        "id": "lNFMpz2DxSZG",
        "colab_type": "text"
      },
      "source": [
        "### Загрузка и предобработка входных данных"
      ]
    },
    {
      "cell_type": "code",
      "metadata": {
        "id": "6R8bef_FnhdI",
        "colab_type": "code",
        "outputId": "04243b3f-739e-4ede-a83f-8bdfda4ea0a8",
        "colab": {
          "base_uri": "https://localhost:8080/",
          "height": 142
        }
      },
      "source": [
        "# Загрузка датасета с Google Drive\n",
        "df=pd.read_csv('/content/drive/My Drive/Kurs_project/train.csv')\n",
        "df.head(3)"
      ],
      "execution_count": 0,
      "outputs": [
        {
          "output_type": "execute_result",
          "data": {
            "text/html": [
              "<div>\n",
              "<style scoped>\n",
              "    .dataframe tbody tr th:only-of-type {\n",
              "        vertical-align: middle;\n",
              "    }\n",
              "\n",
              "    .dataframe tbody tr th {\n",
              "        vertical-align: top;\n",
              "    }\n",
              "\n",
              "    .dataframe thead th {\n",
              "        text-align: right;\n",
              "    }\n",
              "</style>\n",
              "<table border=\"1\" class=\"dataframe\">\n",
              "  <thead>\n",
              "    <tr style=\"text-align: right;\">\n",
              "      <th></th>\n",
              "      <th>Id</th>\n",
              "      <th>age</th>\n",
              "      <th>years_of_experience</th>\n",
              "      <th>lesson_price</th>\n",
              "      <th>qualification</th>\n",
              "      <th>physics</th>\n",
              "      <th>chemistry</th>\n",
              "      <th>biology</th>\n",
              "      <th>english</th>\n",
              "      <th>geography</th>\n",
              "      <th>history</th>\n",
              "      <th>mean_exam_points</th>\n",
              "    </tr>\n",
              "  </thead>\n",
              "  <tbody>\n",
              "    <tr>\n",
              "      <th>0</th>\n",
              "      <td>0</td>\n",
              "      <td>40.0</td>\n",
              "      <td>0.0</td>\n",
              "      <td>1400.0</td>\n",
              "      <td>1.0</td>\n",
              "      <td>1.0</td>\n",
              "      <td>0.0</td>\n",
              "      <td>0.0</td>\n",
              "      <td>0.0</td>\n",
              "      <td>1.0</td>\n",
              "      <td>0.0</td>\n",
              "      <td>63.0</td>\n",
              "    </tr>\n",
              "    <tr>\n",
              "      <th>1</th>\n",
              "      <td>1</td>\n",
              "      <td>48.0</td>\n",
              "      <td>4.0</td>\n",
              "      <td>2850.0</td>\n",
              "      <td>3.0</td>\n",
              "      <td>1.0</td>\n",
              "      <td>0.0</td>\n",
              "      <td>0.0</td>\n",
              "      <td>0.0</td>\n",
              "      <td>0.0</td>\n",
              "      <td>0.0</td>\n",
              "      <td>86.0</td>\n",
              "    </tr>\n",
              "    <tr>\n",
              "      <th>2</th>\n",
              "      <td>2</td>\n",
              "      <td>39.0</td>\n",
              "      <td>0.0</td>\n",
              "      <td>1200.0</td>\n",
              "      <td>1.0</td>\n",
              "      <td>0.0</td>\n",
              "      <td>0.0</td>\n",
              "      <td>0.0</td>\n",
              "      <td>0.0</td>\n",
              "      <td>0.0</td>\n",
              "      <td>0.0</td>\n",
              "      <td>53.0</td>\n",
              "    </tr>\n",
              "  </tbody>\n",
              "</table>\n",
              "</div>"
            ],
            "text/plain": [
              "   Id   age  years_of_experience  ...  geography  history  mean_exam_points\n",
              "0   0  40.0                  0.0  ...        1.0      0.0              63.0\n",
              "1   1  48.0                  4.0  ...        0.0      0.0              86.0\n",
              "2   2  39.0                  0.0  ...        0.0      0.0              53.0\n",
              "\n",
              "[3 rows x 12 columns]"
            ]
          },
          "metadata": {
            "tags": []
          },
          "execution_count": 2
        }
      ]
    },
    {
      "cell_type": "code",
      "metadata": {
        "id": "TRwbtLaSXWq3",
        "colab_type": "code",
        "outputId": "0b6b4825-5512-424b-e99d-ffcf43aca424",
        "colab": {
          "base_uri": "https://localhost:8080/",
          "height": 297
        }
      },
      "source": [
        "df.describe()"
      ],
      "execution_count": 0,
      "outputs": [
        {
          "output_type": "execute_result",
          "data": {
            "text/html": [
              "<div>\n",
              "<style scoped>\n",
              "    .dataframe tbody tr th:only-of-type {\n",
              "        vertical-align: middle;\n",
              "    }\n",
              "\n",
              "    .dataframe tbody tr th {\n",
              "        vertical-align: top;\n",
              "    }\n",
              "\n",
              "    .dataframe thead th {\n",
              "        text-align: right;\n",
              "    }\n",
              "</style>\n",
              "<table border=\"1\" class=\"dataframe\">\n",
              "  <thead>\n",
              "    <tr style=\"text-align: right;\">\n",
              "      <th></th>\n",
              "      <th>Id</th>\n",
              "      <th>age</th>\n",
              "      <th>years_of_experience</th>\n",
              "      <th>lesson_price</th>\n",
              "      <th>qualification</th>\n",
              "      <th>physics</th>\n",
              "      <th>chemistry</th>\n",
              "      <th>biology</th>\n",
              "      <th>english</th>\n",
              "      <th>geography</th>\n",
              "      <th>history</th>\n",
              "      <th>mean_exam_points</th>\n",
              "    </tr>\n",
              "  </thead>\n",
              "  <tbody>\n",
              "    <tr>\n",
              "      <th>count</th>\n",
              "      <td>10000.00000</td>\n",
              "      <td>10000.000000</td>\n",
              "      <td>10000.000000</td>\n",
              "      <td>10000.000000</td>\n",
              "      <td>10000.000000</td>\n",
              "      <td>10000.000000</td>\n",
              "      <td>10000.000000</td>\n",
              "      <td>10000.000000</td>\n",
              "      <td>10000.000000</td>\n",
              "      <td>10000.000000</td>\n",
              "      <td>10000.000000</td>\n",
              "      <td>10000.000000</td>\n",
              "    </tr>\n",
              "    <tr>\n",
              "      <th>mean</th>\n",
              "      <td>4999.50000</td>\n",
              "      <td>45.878000</td>\n",
              "      <td>1.986800</td>\n",
              "      <td>1699.105000</td>\n",
              "      <td>1.719500</td>\n",
              "      <td>0.375000</td>\n",
              "      <td>0.132900</td>\n",
              "      <td>0.109600</td>\n",
              "      <td>0.053700</td>\n",
              "      <td>0.032100</td>\n",
              "      <td>0.019400</td>\n",
              "      <td>64.340800</td>\n",
              "    </tr>\n",
              "    <tr>\n",
              "      <th>std</th>\n",
              "      <td>2886.89568</td>\n",
              "      <td>8.043929</td>\n",
              "      <td>1.772213</td>\n",
              "      <td>524.886654</td>\n",
              "      <td>0.792264</td>\n",
              "      <td>0.484147</td>\n",
              "      <td>0.339484</td>\n",
              "      <td>0.312406</td>\n",
              "      <td>0.225436</td>\n",
              "      <td>0.176274</td>\n",
              "      <td>0.137933</td>\n",
              "      <td>13.536823</td>\n",
              "    </tr>\n",
              "    <tr>\n",
              "      <th>min</th>\n",
              "      <td>0.00000</td>\n",
              "      <td>23.000000</td>\n",
              "      <td>0.000000</td>\n",
              "      <td>200.000000</td>\n",
              "      <td>1.000000</td>\n",
              "      <td>0.000000</td>\n",
              "      <td>0.000000</td>\n",
              "      <td>0.000000</td>\n",
              "      <td>0.000000</td>\n",
              "      <td>0.000000</td>\n",
              "      <td>0.000000</td>\n",
              "      <td>32.000000</td>\n",
              "    </tr>\n",
              "    <tr>\n",
              "      <th>25%</th>\n",
              "      <td>2499.75000</td>\n",
              "      <td>40.000000</td>\n",
              "      <td>0.000000</td>\n",
              "      <td>1300.000000</td>\n",
              "      <td>1.000000</td>\n",
              "      <td>0.000000</td>\n",
              "      <td>0.000000</td>\n",
              "      <td>0.000000</td>\n",
              "      <td>0.000000</td>\n",
              "      <td>0.000000</td>\n",
              "      <td>0.000000</td>\n",
              "      <td>55.000000</td>\n",
              "    </tr>\n",
              "    <tr>\n",
              "      <th>50%</th>\n",
              "      <td>4999.50000</td>\n",
              "      <td>46.000000</td>\n",
              "      <td>2.000000</td>\n",
              "      <td>1500.000000</td>\n",
              "      <td>2.000000</td>\n",
              "      <td>0.000000</td>\n",
              "      <td>0.000000</td>\n",
              "      <td>0.000000</td>\n",
              "      <td>0.000000</td>\n",
              "      <td>0.000000</td>\n",
              "      <td>0.000000</td>\n",
              "      <td>63.000000</td>\n",
              "    </tr>\n",
              "    <tr>\n",
              "      <th>75%</th>\n",
              "      <td>7499.25000</td>\n",
              "      <td>51.000000</td>\n",
              "      <td>3.000000</td>\n",
              "      <td>2150.000000</td>\n",
              "      <td>2.000000</td>\n",
              "      <td>1.000000</td>\n",
              "      <td>0.000000</td>\n",
              "      <td>0.000000</td>\n",
              "      <td>0.000000</td>\n",
              "      <td>0.000000</td>\n",
              "      <td>0.000000</td>\n",
              "      <td>73.000000</td>\n",
              "    </tr>\n",
              "    <tr>\n",
              "      <th>max</th>\n",
              "      <td>9999.00000</td>\n",
              "      <td>68.000000</td>\n",
              "      <td>10.000000</td>\n",
              "      <td>3950.000000</td>\n",
              "      <td>4.000000</td>\n",
              "      <td>1.000000</td>\n",
              "      <td>1.000000</td>\n",
              "      <td>1.000000</td>\n",
              "      <td>1.000000</td>\n",
              "      <td>1.000000</td>\n",
              "      <td>1.000000</td>\n",
              "      <td>100.000000</td>\n",
              "    </tr>\n",
              "  </tbody>\n",
              "</table>\n",
              "</div>"
            ],
            "text/plain": [
              "                Id           age  ...       history  mean_exam_points\n",
              "count  10000.00000  10000.000000  ...  10000.000000      10000.000000\n",
              "mean    4999.50000     45.878000  ...      0.019400         64.340800\n",
              "std     2886.89568      8.043929  ...      0.137933         13.536823\n",
              "min        0.00000     23.000000  ...      0.000000         32.000000\n",
              "25%     2499.75000     40.000000  ...      0.000000         55.000000\n",
              "50%     4999.50000     46.000000  ...      0.000000         63.000000\n",
              "75%     7499.25000     51.000000  ...      0.000000         73.000000\n",
              "max     9999.00000     68.000000  ...      1.000000        100.000000\n",
              "\n",
              "[8 rows x 12 columns]"
            ]
          },
          "metadata": {
            "tags": []
          },
          "execution_count": 3
        }
      ]
    },
    {
      "cell_type": "code",
      "metadata": {
        "id": "OfoXyqN6PS0Y",
        "colab_type": "code",
        "colab": {}
      },
      "source": [
        "# Перечислим признаки и целевую переменную\n",
        "features = ['age', 'years_of_experience', 'lesson_price', 'qualification', 'physics', 'chemistry', 'biology', 'english', 'geography', 'history']\n",
        "target = 'mean_exam_points'"
      ],
      "execution_count": 0,
      "outputs": []
    },
    {
      "cell_type": "code",
      "metadata": {
        "id": "Pm6kW6qCvOjg",
        "colab_type": "code",
        "colab": {}
      },
      "source": [
        "# Создадим наборы признаков и целевой переменной\n",
        "X = df[features].values\n",
        "y = df[target].values"
      ],
      "execution_count": 0,
      "outputs": []
    },
    {
      "cell_type": "markdown",
      "metadata": {
        "id": "vhVO2T-zzpG9",
        "colab_type": "text"
      },
      "source": [
        "### Реализуем алгоритм градиентного бустинга"
      ]
    },
    {
      "cell_type": "code",
      "metadata": {
        "id": "W0-UZ-jgwQ-3",
        "colab_type": "code",
        "colab": {}
      },
      "source": [
        "# Реализуем класс узла\n",
        "\n",
        "class Node:\n",
        "    \n",
        "    def __init__(self, index, t, true_branch, false_branch):\n",
        "        self.index = index  # индекс признака, по которому ведется сравнение с порогом в этом узле\n",
        "        self.t = t  # значение порога\n",
        "        self.true_branch = true_branch  # поддерево, удовлетворяющее условию в узле\n",
        "        self.false_branch = false_branch  # поддерево, не удовлетворяющее условию в узле"
      ],
      "execution_count": 0,
      "outputs": []
    },
    {
      "cell_type": "code",
      "metadata": {
        "id": "QUEk8cLvYhrm",
        "colab_type": "code",
        "colab": {}
      },
      "source": [
        "# И класс терминального узла (листа)\n",
        "\n",
        "class Leaf:\n",
        "    \n",
        "    def __init__(self, data, labels):\n",
        "        self.data = data\n",
        "        self.labels = labels\n",
        "        self.prediction = self.predict()\n",
        "        \n",
        "    def predict(self):\n",
        "        \n",
        "        # Расчет среднего значения в листе\n",
        "        prediction = np.mean(self.labels)\n",
        "        return prediction        "
      ],
      "execution_count": 0,
      "outputs": []
    },
    {
      "cell_type": "code",
      "metadata": {
        "id": "2HmkD6GLehsN",
        "colab_type": "code",
        "colab": {}
      },
      "source": [
        "# Реализуем класс дерева\n",
        "class Tree:\n",
        "\n",
        "    def __init__(self, max_depth):\n",
        "        self.max_depth = max_depth\n",
        "        self.tree = None\n",
        "\n",
        "\n",
        "    # В случае регрессии разброс будет характеризоваться дисперсией\n",
        "    def variance(self, labels):\n",
        "        return np.var(labels)\n",
        "\n",
        "\n",
        "    # Расчет качества\n",
        "    def quality(self, left_labels, right_labels, current_variance):\n",
        "\n",
        "        # доля выбоки, ушедшая в левое поддерево\n",
        "        p = float(left_labels.shape[0]) / (left_labels.shape[0] + right_labels.shape[0])\n",
        "        \n",
        "        return current_variance - p * self.variance(left_labels) - (1 - p) * self.variance(right_labels)\n",
        "\n",
        "    \n",
        "    # Разбиение датасета в узле\n",
        "    def split(self, data, labels, index, t):\n",
        "    \n",
        "        left = np.where(data[:, index] <= t)\n",
        "        right = np.where(data[:, index] > t)\n",
        "            \n",
        "        true_data = data[left]\n",
        "        false_data = data[right]\n",
        "        true_labels = labels[left]\n",
        "        false_labels = labels[right]\n",
        "            \n",
        "        return true_data, false_data, true_labels, false_labels\n",
        "\n",
        "    \n",
        "    # Нахождение наилучшего разбиения\n",
        "    def find_best_split(self, data, labels):\n",
        "        \n",
        "        #  обозначим минимальное количество объектов в узле\n",
        "        min_leaf = 5\n",
        "\n",
        "        current_variance = self.variance(labels)\n",
        "\n",
        "        best_quality = 0\n",
        "        best_t = None\n",
        "        best_index = None\n",
        "        \n",
        "        n_features = data.shape[1]\n",
        "        \n",
        "        for index in range(n_features):\n",
        "            # будем проверять только уникальные значения признака, исключая повторения\n",
        "            t_values = np.unique([row[index] for row in data])\n",
        "            \n",
        "            for t in t_values:\n",
        "                true_data, false_data, true_labels, false_labels = self.split(data, labels, index, t)\n",
        "                #  пропускаем разбиения, в которых в узле остается менее 5 объектов\n",
        "                if len(true_data) < min_leaf or len(false_data) < min_leaf:\n",
        "                    continue\n",
        "                \n",
        "                current_quality = self.quality(true_labels, false_labels, current_variance)\n",
        "                \n",
        "                #  выбираем порог, на котором получается максимальный прирост качества\n",
        "                if current_quality > best_quality:\n",
        "                    best_quality, best_t, best_index = current_quality, t, index\n",
        "\n",
        "        return best_quality, best_t, best_index\n",
        "    \n",
        "\n",
        "    # Построение дерева с помощью рекурсивной функции\n",
        "    def build_tree(self, data, labels, max_depth, depth=0):\n",
        "\n",
        "        quality, t, index = self.find_best_split(data, labels)\n",
        "\n",
        "        # Прекращаем рекурсию, когда нет прироста в качества или достигнута\n",
        "        # максимальная глубина дерева\n",
        "        if quality == 0 or depth >= max_depth:\n",
        "            return Leaf(data, labels)\n",
        "\n",
        "        true_data, false_data, true_labels, false_labels = self.split(data, labels, index, t)\n",
        "\n",
        "        # Рекурсивно строим два поддерева\n",
        "        true_branch = self.build_tree(true_data, true_labels, max_depth, depth+1)\n",
        "        false_branch = self.build_tree(false_data, false_labels, max_depth, depth+1)\n",
        "\n",
        "        # Возвращаем класс узла со всеми поддеревьями, то есть целого дерева\n",
        "        return Node(index, t, true_branch, false_branch)\n",
        "    \n",
        "\n",
        "    def predict_target(self, obj, node):\n",
        "\n",
        "        #  Останавливаем рекурсию, если достигли листа\n",
        "        if isinstance(node, Leaf):\n",
        "            answer = node.prediction\n",
        "            return answer\n",
        "\n",
        "        if obj[node.index] <= node.t:\n",
        "            return self.predict_target(obj, node.true_branch)\n",
        "        else:\n",
        "            return self.predict_target(obj, node.false_branch)\n",
        "    \n",
        "\n",
        "    def predict(self, data):\n",
        "    \n",
        "        values = []\n",
        "        for obj in data:\n",
        "            prediction = self.predict_target(obj, self.tree)\n",
        "            values.append(prediction)\n",
        "        return values\n",
        "    \n",
        "\n",
        "    # Строим дерево\n",
        "    def fit(self, data, labels):\n",
        "        self.tree = self.build_tree(data, labels, self.max_depth)\n",
        "        return self"
      ],
      "execution_count": 0,
      "outputs": []
    },
    {
      "cell_type": "code",
      "metadata": {
        "id": "ukE6vknKFZnW",
        "colab_type": "code",
        "colab": {}
      },
      "source": [
        "# Реализуем класс для градиентного бустинга\n",
        "class GB:\n",
        "    def __init__(self, n_trees, max_depth, coefs, eta):\n",
        "        self.n_trees = n_trees\n",
        "        self.max_depth = max_depth\n",
        "        self.coefs = coefs\n",
        "        self.eta = eta\n",
        "        self.trees = []\n",
        "\n",
        "\n",
        "    def bias(self, y, z):\n",
        "        return (y - z)\n",
        "\n",
        "    def fit(self, X_train, y_train):\n",
        "        \n",
        "        # Деревья будем записывать в список\n",
        "        trees = []\n",
        "\n",
        "        for i in range(self.n_trees):\n",
        "            tree = Tree(max_depth=self.max_depth)         \n",
        "\n",
        "            # инициализируем бустинг начальным алгоритмом, возвращающим ноль, \n",
        "            # поэтому первый алгоритм просто обучаем на выборке и добавляем в список\n",
        "            if len(self.trees) == 0:\n",
        "                # обучаем первое дерево на обучающей выборке\n",
        "                tree.fit(X_train, y_train)\n",
        "            else:\n",
        "                # Получим ответы на текущей композиции\n",
        "                target = self.predict(X_train)\n",
        "                \n",
        "                # алгоритмы начиная со второго обучаем на сдвиг\n",
        "                tree.fit(X_train, self.bias(y_train, target))\n",
        "            self.trees.append(tree)\n",
        "            \n",
        "        return self\n",
        "    \n",
        "    \n",
        "    def predict(self, X):\n",
        "        # Реализуемый алгоритм градиентного бустинга будет инициализироваться нулевыми значениями,\n",
        "        # поэтому все деревья из списка trees_list уже являются дополнительными и при предсказании прибавляются с шагом eta\n",
        "        return np.array([sum([self.eta * coef * alg.predict([x])[0] for alg, coef in zip(self.trees, self.coefs)]) for x in X])"
      ],
      "execution_count": 0,
      "outputs": []
    },
    {
      "cell_type": "code",
      "metadata": {
        "id": "FeLyZkEhM-l1",
        "colab_type": "code",
        "colab": {}
      },
      "source": [
        "# Функция вычисления метрики R2\n",
        "def R2(y_pred, y_true):\n",
        "  numerator = ((y_true - y_pred) ** 2).sum(axis=0, dtype=np.float64)\n",
        "  denominator = ((y_true - np.average(y_true)) ** 2).sum(axis=0, dtype=np.float64)\n",
        "  return 1 - (numerator / denominator)"
      ],
      "execution_count": 0,
      "outputs": []
    },
    {
      "cell_type": "markdown",
      "metadata": {
        "id": "vdGt3SUVRRQl",
        "colab_type": "text"
      },
      "source": [
        "### Проверка модели"
      ]
    },
    {
      "cell_type": "code",
      "metadata": {
        "id": "1lEI7-y3Rfjq",
        "colab_type": "code",
        "colab": {}
      },
      "source": [
        "# Разобьем тренировочную выборку на две\n",
        "X_train, X_test, y_train, y_test = train_test_split(X, y, test_size = 0.25, random_state = 42)"
      ],
      "execution_count": 0,
      "outputs": []
    },
    {
      "cell_type": "code",
      "metadata": {
        "id": "Qj3mggziTjX9",
        "colab_type": "code",
        "colab": {}
      },
      "source": [
        "# Число деревьев в ансамбле\n",
        "n_trees = 17\n",
        "\n",
        "# для простоты примем коэффициенты равными 1\n",
        "coefs = [1] * n_trees\n",
        "\n",
        "# Максимальная глубина деревьев\n",
        "max_depth = 5\n",
        "\n",
        "# Шаг\n",
        "eta = 0.4"
      ],
      "execution_count": 0,
      "outputs": []
    },
    {
      "cell_type": "code",
      "metadata": {
        "id": "UcehDo6CTrMz",
        "colab_type": "code",
        "colab": {}
      },
      "source": [
        "gb = GB(n_trees, max_depth, coefs, eta)\n",
        "# Проведем обучение модели\n",
        "gb.fit(X_train, y_train)\n",
        "# Предскажем значения на тестовом наборе\n",
        "y_pred_test = gb.predict(X_test)"
      ],
      "execution_count": 0,
      "outputs": []
    },
    {
      "cell_type": "code",
      "metadata": {
        "id": "d39t67pMUm-Z",
        "colab_type": "code",
        "outputId": "799f75f0-d185-44a9-9a4c-df72c0a12eaa",
        "colab": {
          "base_uri": "https://localhost:8080/",
          "height": 34
        }
      },
      "source": [
        "# Посмотрим значение коэффициента детерминации\n",
        "R2(y_pred_test, y_test)"
      ],
      "execution_count": 0,
      "outputs": [
        {
          "output_type": "execute_result",
          "data": {
            "text/plain": [
              "0.7787152569386782"
            ]
          },
          "metadata": {
            "tags": []
          },
          "execution_count": 14
        }
      ]
    },
    {
      "cell_type": "markdown",
      "metadata": {
        "id": "Tj-c40uga8So",
        "colab_type": "text"
      },
      "source": [
        "n_trees = 17, max_depth = 5, eta = 0.4, r2 = 0.7787152569386782"
      ]
    },
    {
      "cell_type": "markdown",
      "metadata": {
        "id": "wfPmQfwKTA-A",
        "colab_type": "text"
      },
      "source": [
        "### Обучим модель на всем наборе тренировочных данных и спрогнозируем значения для тестового набора"
      ]
    },
    {
      "cell_type": "code",
      "metadata": {
        "id": "X_tsUR1jbUzO",
        "colab_type": "code",
        "outputId": "26a9794d-f672-4293-f7ae-471a80dea2f8",
        "colab": {
          "base_uri": "https://localhost:8080/",
          "height": 34
        }
      },
      "source": [
        "# Обучим модель\n",
        "gb_final = GB(n_trees, max_depth, coefs, eta)\n",
        "gb_final.fit(X, y)"
      ],
      "execution_count": 0,
      "outputs": [
        {
          "output_type": "execute_result",
          "data": {
            "text/plain": [
              "<__main__.GB at 0x7fef2fb34278>"
            ]
          },
          "metadata": {
            "tags": []
          },
          "execution_count": 15
        }
      ]
    },
    {
      "cell_type": "code",
      "metadata": {
        "colab_type": "code",
        "outputId": "51fbccbc-a17c-4bc4-d8e1-0c3b1e0bbcc0",
        "id": "KkkzOkB1UxvO",
        "colab": {
          "base_uri": "https://localhost:8080/",
          "height": 142
        }
      },
      "source": [
        "# Загрузка тестовый датасета с Google Drive\n",
        "df_test = pd.read_csv('/content/drive/My Drive/Kurs_project/test.csv')\n",
        "df_test.head(3)"
      ],
      "execution_count": 0,
      "outputs": [
        {
          "output_type": "execute_result",
          "data": {
            "text/html": [
              "<div>\n",
              "<style scoped>\n",
              "    .dataframe tbody tr th:only-of-type {\n",
              "        vertical-align: middle;\n",
              "    }\n",
              "\n",
              "    .dataframe tbody tr th {\n",
              "        vertical-align: top;\n",
              "    }\n",
              "\n",
              "    .dataframe thead th {\n",
              "        text-align: right;\n",
              "    }\n",
              "</style>\n",
              "<table border=\"1\" class=\"dataframe\">\n",
              "  <thead>\n",
              "    <tr style=\"text-align: right;\">\n",
              "      <th></th>\n",
              "      <th>Id</th>\n",
              "      <th>age</th>\n",
              "      <th>years_of_experience</th>\n",
              "      <th>lesson_price</th>\n",
              "      <th>qualification</th>\n",
              "      <th>physics</th>\n",
              "      <th>chemistry</th>\n",
              "      <th>biology</th>\n",
              "      <th>english</th>\n",
              "      <th>geography</th>\n",
              "      <th>history</th>\n",
              "    </tr>\n",
              "  </thead>\n",
              "  <tbody>\n",
              "    <tr>\n",
              "      <th>0</th>\n",
              "      <td>10000</td>\n",
              "      <td>46.0</td>\n",
              "      <td>3.0</td>\n",
              "      <td>1050.0</td>\n",
              "      <td>1.0</td>\n",
              "      <td>0.0</td>\n",
              "      <td>1.0</td>\n",
              "      <td>0.0</td>\n",
              "      <td>0.0</td>\n",
              "      <td>0.0</td>\n",
              "      <td>0.0</td>\n",
              "    </tr>\n",
              "    <tr>\n",
              "      <th>1</th>\n",
              "      <td>10001</td>\n",
              "      <td>43.0</td>\n",
              "      <td>3.0</td>\n",
              "      <td>1850.0</td>\n",
              "      <td>2.0</td>\n",
              "      <td>0.0</td>\n",
              "      <td>0.0</td>\n",
              "      <td>0.0</td>\n",
              "      <td>0.0</td>\n",
              "      <td>0.0</td>\n",
              "      <td>0.0</td>\n",
              "    </tr>\n",
              "    <tr>\n",
              "      <th>2</th>\n",
              "      <td>10002</td>\n",
              "      <td>52.0</td>\n",
              "      <td>1.0</td>\n",
              "      <td>1550.0</td>\n",
              "      <td>1.0</td>\n",
              "      <td>1.0</td>\n",
              "      <td>0.0</td>\n",
              "      <td>0.0</td>\n",
              "      <td>0.0</td>\n",
              "      <td>0.0</td>\n",
              "      <td>0.0</td>\n",
              "    </tr>\n",
              "  </tbody>\n",
              "</table>\n",
              "</div>"
            ],
            "text/plain": [
              "      Id   age  years_of_experience  ...  english  geography  history\n",
              "0  10000  46.0                  3.0  ...      0.0        0.0      0.0\n",
              "1  10001  43.0                  3.0  ...      0.0        0.0      0.0\n",
              "2  10002  52.0                  1.0  ...      0.0        0.0      0.0\n",
              "\n",
              "[3 rows x 11 columns]"
            ]
          },
          "metadata": {
            "tags": []
          },
          "execution_count": 16
        }
      ]
    },
    {
      "cell_type": "code",
      "metadata": {
        "id": "_FyX4wrzKN7B",
        "colab_type": "code",
        "colab": {}
      },
      "source": [
        "# Создадим набор признаков\n",
        "X_test = df_test[features].values"
      ],
      "execution_count": 0,
      "outputs": []
    },
    {
      "cell_type": "code",
      "metadata": {
        "id": "zwzLkWYqVXxV",
        "colab_type": "code",
        "colab": {}
      },
      "source": [
        "\n",
        "y_pred_test = gb_final.predict(X_test)"
      ],
      "execution_count": 0,
      "outputs": []
    },
    {
      "cell_type": "markdown",
      "metadata": {
        "id": "QQ18EXTGXnw7",
        "colab_type": "text"
      },
      "source": [
        "### Выгрузим результаты в файл"
      ]
    },
    {
      "cell_type": "code",
      "metadata": {
        "id": "hiX36ixYVgNk",
        "colab_type": "code",
        "colab": {}
      },
      "source": [
        "submissions = pd.concat([df_test['Id'], pd.Series(y_pred_test)], axis=1)\n",
        "submissions = submissions.rename(columns={0: 'mean_exam_points'})"
      ],
      "execution_count": 0,
      "outputs": []
    },
    {
      "cell_type": "code",
      "metadata": {
        "id": "wNwagrs5VjMm",
        "colab_type": "code",
        "colab": {}
      },
      "source": [
        "submissions.to_csv('/content/drive/My Drive/Kurs_project/YRiabinin_predictions.csv',index=None)"
      ],
      "execution_count": 0,
      "outputs": []
    }
  ]
}