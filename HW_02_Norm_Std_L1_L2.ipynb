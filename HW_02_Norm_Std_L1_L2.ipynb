{
  "nbformat": 4,
  "nbformat_minor": 0,
  "metadata": {
    "kernelspec": {
      "display_name": "Python 3",
      "language": "python",
      "name": "python3"
    },
    "language_info": {
      "codemirror_mode": {
        "name": "ipython",
        "version": 3
      },
      "file_extension": ".py",
      "mimetype": "text/x-python",
      "name": "python",
      "nbconvert_exporter": "python",
      "pygments_lexer": "ipython3",
      "version": "3.7.4"
    },
    "colab": {
      "name": "HW_02_Norm_Std_L1_L2.ipynb",
      "provenance": [],
      "collapsed_sections": []
    }
  },
  "cells": [
    {
      "cell_type": "code",
      "metadata": {
        "id": "S1rknLw41bWC",
        "colab_type": "code",
        "colab": {}
      },
      "source": [
        "import numpy as np\n",
        "import matplotlib.pyplot as plt\n",
        "%matplotlib inline"
      ],
      "execution_count": 0,
      "outputs": []
    },
    {
      "cell_type": "markdown",
      "metadata": {
        "id": "C71dCQ3N1bWQ",
        "colab_type": "text"
      },
      "source": [
        "### Задание 1. Постройте график зависимости весов всех признаков от lambda в L2-регуляризации (на данных из урока)."
      ]
    },
    {
      "cell_type": "code",
      "metadata": {
        "id": "_Qqk8q0X1bWU",
        "colab_type": "code",
        "colab": {}
      },
      "source": [
        "# Инициализация данных\n",
        "X = np.array([[1, 1, 1, 1, 1, 1, 1, 1, 1, 1],\n",
        "              [1, 1, 2, 1, 3, 0, 5, 10, 1, 2],\n",
        "              [500, 700, 750, 600, 1450,\n",
        "               800, 1500, 2000, 450, 1000],\n",
        "              [1, 1, 2, 1, 2, 1, 3, 3, 1, 2]])\n",
        "y = [45, 55, 50, 59, 65, 35, 75, 80, 50, 60]"
      ],
      "execution_count": 0,
      "outputs": []
    },
    {
      "cell_type": "code",
      "metadata": {
        "id": "LZnYeANw1bWw",
        "colab_type": "code",
        "colab": {}
      },
      "source": [
        "# Функция стандартизации признака\n",
        "def calc_std_feat(x):\n",
        "  res = (x - x.mean()) / x.std()\n",
        "  return res"
      ],
      "execution_count": 0,
      "outputs": []
    },
    {
      "cell_type": "code",
      "metadata": {
        "id": "tIKe7fKI1bW9",
        "colab_type": "code",
        "colab": {}
      },
      "source": [
        "# Копирование данных и приведение их типу данных float\n",
        "X_st = X.copy().astype(np.float64)"
      ],
      "execution_count": 0,
      "outputs": []
    },
    {
      "cell_type": "code",
      "metadata": {
        "id": "dIm8z8w21bXJ",
        "colab_type": "code",
        "colab": {}
      },
      "source": [
        "# Стандартизация признаков\n",
        "X_st[1] = calc_std_feat(X[1])\n",
        "X_st[2] = calc_std_feat(X[2])\n",
        "X_st[3] = calc_std_feat(X[3])"
      ],
      "execution_count": 0,
      "outputs": []
    },
    {
      "cell_type": "code",
      "metadata": {
        "id": "WAJVQojd1bXY",
        "colab_type": "code",
        "colab": {}
      },
      "source": [
        "# Функция градиентного спуска с L2 регуляризацией\n",
        "def eval_model_reg2(X, y, lambda_, iterations, alpha=1e-4):\n",
        "  np.random.seed(42)\n",
        "  W = np.random.randn(X.shape[0])\n",
        "  n = X.shape[1]\n",
        "  for i in range(1, iterations+1):\n",
        "    y_pred = np.dot(W, X)\n",
        "    W -= alpha * (1/n * 2 * np.dot((y_pred - y), X.T) + lambda_ * W) \n",
        "  return W"
      ],
      "execution_count": 0,
      "outputs": []
    },
    {
      "cell_type": "code",
      "metadata": {
        "id": "yy0c1Srn1bXt",
        "colab_type": "code",
        "colab": {}
      },
      "source": [
        "# Формируем параметр lambda\n",
        "lambda_=np.linspace(1e-4, 0.5, 300)"
      ],
      "execution_count": 0,
      "outputs": []
    },
    {
      "cell_type": "code",
      "metadata": {
        "id": "me5DfJ_S1bX3",
        "colab_type": "code",
        "colab": {}
      },
      "source": [
        "# Получаем значения весов при соответствующем параметре lambda\n",
        "W_1 = []\n",
        "W_2 = []\n",
        "W_3 = []\n",
        "for i in lambda_:\n",
        "    W = eval_model_reg2(X_st, y, i, iterations=5000, alpha=1e-2)\n",
        "    W_1.append(W[1])\n",
        "    W_2.append(W[2])\n",
        "    W_3.append(W[3])"
      ],
      "execution_count": 0,
      "outputs": []
    },
    {
      "cell_type": "code",
      "metadata": {
        "id": "j8ibGkEG1bYC",
        "colab_type": "code",
        "colab": {
          "base_uri": "https://localhost:8080/",
          "height": 405
        },
        "outputId": "3f686959-02ba-4be3-f672-e7ff70756931"
      },
      "source": [
        "# Строим графики\n",
        "plt.figure(figsize=(8, 6))\n",
        "\n",
        "plt.xlabel('lambda')\n",
        "plt.ylabel('W')\n",
        "plt.plot(lambda_, W_1, label='W_1')\n",
        "plt.plot(lambda_, W_2, label='W_2')\n",
        "plt.plot(lambda_, W_3, label='W_3')\n",
        "plt.legend()"
      ],
      "execution_count": 9,
      "outputs": [
        {
          "output_type": "execute_result",
          "data": {
            "text/plain": [
              "<matplotlib.legend.Legend at 0x7fdfb76d1c88>"
            ]
          },
          "metadata": {
            "tags": []
          },
          "execution_count": 9
        },
        {
          "output_type": "display_data",
          "data": {
            "image/png": "[encoded data removed]",
            "text/plain": [
              "<Figure size 576x432 with 1 Axes>"
            ]
          },
          "metadata": {
            "tags": []
          }
        }
      ]
    },
    {
      "cell_type": "markdown",
      "metadata": {
        "id": "6yckTFn41bYN",
        "colab_type": "text"
      },
      "source": [
        "### Задание 2. Можно ли к одному и тому же признаку применить сразу и нормализацию, и стандартизацию?"
      ]
    },
    {
      "cell_type": "markdown",
      "metadata": {
        "id": "kbZOUYc2mV-K",
        "colab_type": "text"
      },
      "source": [
        "Применить и нормализацию и стандартизацию к одному признаку можно, но я не встречал ни одного упоминания чтобы их применяли совместно."
      ]
    },
    {
      "cell_type": "markdown",
      "metadata": {
        "id": "6nUIxjwh-3l9",
        "colab_type": "text"
      },
      "source": [
        "### Задание 3*. Напишите функцию наподобие eval_model_reg2, но для применения L1-регуляризации.\n",
        "Для написании нам надо оставить коэффициент $\\frac{lambda}{2}$ и взять частную производную модуля весов. Она будет равна $\\frac{W}{|W|}$ или просто взять знак числа."
      ]
    },
    {
      "cell_type": "code",
      "metadata": {
        "id": "zVCNX42g-__n",
        "colab_type": "code",
        "colab": {}
      },
      "source": [
        "def eval_model_reg1(X, y, iterations, alpha=1e-4, lambda_=1e-8):\n",
        "  np.random.seed(42)\n",
        "  W = np.random.randn(X.shape[0])\n",
        "  n = X.shape[1]\n",
        "  for i in range(1, iterations+1):\n",
        "    y_pred = np.dot(W, X)\n",
        "    W -= alpha * (1/n * 2 * np.dot((y_pred - y), X.T) + lambda_ / 2 * np.sign(W))\n",
        "  return W"
      ],
      "execution_count": 0,
      "outputs": []
    }
  ]
}