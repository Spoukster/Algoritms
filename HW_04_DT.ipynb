{
  "nbformat": 4,
  "nbformat_minor": 0,
  "metadata": {
    "colab": {
      "name": "HW_04_DT.ipynb",
      "provenance": [],
      "collapsed_sections": []
    },
    "kernelspec": {
      "name": "python3",
      "display_name": "Python 3"
    }
  },
  "cells": [
    {
      "cell_type": "code",
      "metadata": {
        "id": "Lz903G0nuBWs",
        "colab_type": "code",
        "colab": {}
      },
      "source": [
        "import matplotlib.pyplot as plt\n",
        "import random\n",
        "\n",
        "from matplotlib.colors import ListedColormap\n",
        "from sklearn import datasets\n",
        "\n",
        "import numpy as np"
      ],
      "execution_count": 0,
      "outputs": []
    },
    {
      "cell_type": "markdown",
      "metadata": {
        "id": "RRW0BtBTuYjP",
        "colab_type": "text"
      },
      "source": [
        "### Задание 1. В коде из методички реализуйте один или несколько из критериев останова (количество листьев, количество используемых признаков, глубина дерева и т.д.)\n",
        "Я в функцию build_tree добавил условие на глубину дерева (if quality == 0 or deep == 2). При каждом рекурсивном вызове глубина увеличивается на 1. Для наглядности поставил условие глубины 2."
      ]
    },
    {
      "cell_type": "code",
      "metadata": {
        "id": "mTmeeQJ2udAH",
        "colab_type": "code",
        "colab": {}
      },
      "source": [
        "# сгенерируем данные\n",
        "classification_data, classification_labels = datasets.make_classification(n_features = 2, n_informative = 2, \n",
        "                                                      n_classes = 2, n_redundant=0, \n",
        "                                                      n_clusters_per_class=1, random_state=5)"
      ],
      "execution_count": 0,
      "outputs": []
    },
    {
      "cell_type": "code",
      "metadata": {
        "id": "GDsMCup8uiN-",
        "colab_type": "code",
        "colab": {}
      },
      "source": [
        "# Реализуем класс узла\n",
        "\n",
        "class Node:\n",
        "    \n",
        "    def __init__(self, index, t, true_branch, false_branch):\n",
        "        self.index = index  # индекс признака, по которому ведется сравнение с порогом в этом узле\n",
        "        self.t = t  # значение порога\n",
        "        self.true_branch = true_branch  # поддерево, удовлетворяющее условию в узле\n",
        "        self.false_branch = false_branch  # поддерево, не удовлетворяющее условию в узле"
      ],
      "execution_count": 0,
      "outputs": []
    },
    {
      "cell_type": "code",
      "metadata": {
        "id": "vMAxfQTquksW",
        "colab_type": "code",
        "colab": {}
      },
      "source": [
        "# И класс терминального узла (листа)\n",
        "\n",
        "class Leaf:\n",
        "    \n",
        "    def __init__(self, data, labels):\n",
        "        self.data = data\n",
        "        self.labels = labels\n",
        "        self.prediction = self.predict()\n",
        "        \n",
        "    def predict(self):\n",
        "        # подсчет количества объектов разных классов\n",
        "        classes = {}  # сформируем словарь \"класс: количество объектов\"\n",
        "        for label in self.labels:\n",
        "            if label not in classes:\n",
        "                classes[label] = 0\n",
        "            classes[label] += 1\n",
        "        #  найдем класс, количество объектов которого будет максимальным в этом листе и вернем его    \n",
        "        prediction = max(classes, key=classes.get)\n",
        "        return prediction "
      ],
      "execution_count": 0,
      "outputs": []
    },
    {
      "cell_type": "code",
      "metadata": {
        "id": "iqAXQ5Sium6O",
        "colab_type": "code",
        "colab": {}
      },
      "source": [
        "# Расчет критерия Джини\n",
        "\n",
        "def gini(labels):\n",
        "    #  подсчет количества объектов разных классов\n",
        "    classes = {}\n",
        "    for label in labels:\n",
        "        if label not in classes:\n",
        "            classes[label] = 0\n",
        "        classes[label] += 1\n",
        "    \n",
        "    #  расчет критерия\n",
        "    impurity = 1\n",
        "    for label in classes:\n",
        "        p = classes[label] / len(labels)\n",
        "        impurity -= p ** 2\n",
        "        \n",
        "    return impurity"
      ],
      "execution_count": 0,
      "outputs": []
    },
    {
      "cell_type": "code",
      "metadata": {
        "id": "jpjm-kATupR_",
        "colab_type": "code",
        "colab": {}
      },
      "source": [
        "# Расчет качества\n",
        "\n",
        "def quality(left_labels, right_labels, current_gini):\n",
        "\n",
        "    # доля выбоки, ушедшая в левое поддерево\n",
        "    p = float(left_labels.shape[0]) / (left_labels.shape[0] + right_labels.shape[0])\n",
        "    \n",
        "    return current_gini - p * gini(left_labels) - (1 - p) * gini(right_labels)"
      ],
      "execution_count": 0,
      "outputs": []
    },
    {
      "cell_type": "code",
      "metadata": {
        "id": "0reX-b1xus0G",
        "colab_type": "code",
        "colab": {}
      },
      "source": [
        "# Разбиение датасета в узле\n",
        "\n",
        "def split(data, labels, index, t):\n",
        "    \n",
        "    left = np.where(data[:, index] <= t)\n",
        "    right = np.where(data[:, index] > t)\n",
        "        \n",
        "    true_data = data[left]\n",
        "    false_data = data[right]\n",
        "    true_labels = labels[left]\n",
        "    false_labels = labels[right]\n",
        "        \n",
        "    return true_data, false_data, true_labels, false_labels"
      ],
      "execution_count": 0,
      "outputs": []
    },
    {
      "cell_type": "code",
      "metadata": {
        "id": "M9J5OUBzuugg",
        "colab_type": "code",
        "colab": {}
      },
      "source": [
        "# Нахождение наилучшего разбиения\n",
        "\n",
        "def find_best_split(data, labels):\n",
        "    \n",
        "    #  обозначим минимальное количество объектов в узле\n",
        "    min_leaf = 5\n",
        "\n",
        "    current_gini = gini(labels)\n",
        "\n",
        "    best_quality = 0\n",
        "    best_t = None\n",
        "    best_index = None\n",
        "    \n",
        "    n_features = data.shape[1]\n",
        "    \n",
        "    for index in range(n_features):\n",
        "        # будем проверять только уникальные значения признака, исключая повторения\n",
        "        t_values = np.unique([row[index] for row in data])\n",
        "        \n",
        "        for t in t_values:\n",
        "            true_data, false_data, true_labels, false_labels = split(data, labels, index, t)\n",
        "            #  пропускаем разбиения, в которых в узле остается менее 5 объектов\n",
        "            if len(true_data) < min_leaf or len(false_data) < min_leaf:\n",
        "                continue\n",
        "            \n",
        "            current_quality = quality(true_labels, false_labels, current_gini)\n",
        "            \n",
        "            #  выбираем порог, на котором получается максимальный прирост качества\n",
        "            if current_quality > best_quality:\n",
        "                best_quality, best_t, best_index = current_quality, t, index\n",
        "\n",
        "    return best_quality, best_t, best_index"
      ],
      "execution_count": 0,
      "outputs": []
    },
    {
      "cell_type": "code",
      "metadata": {
        "id": "r5NWw52euzgG",
        "colab_type": "code",
        "colab": {}
      },
      "source": [
        "# Построение дерева с помощью рекурсивной функции\n",
        "\n",
        "def build_tree(data, labels, deep):\n",
        "    deep += 1\n",
        "    quality, t, index = find_best_split(data, labels)\n",
        "\n",
        "    #  Базовый случай - прекращаем рекурсию, когда нет прироста в качества\n",
        "    if quality == 0 or deep == 2:\n",
        "        return Leaf(data, labels)\n",
        "    # if deep == 3:\n",
        "    #     return Leaf(data, labels)\n",
        "\n",
        "    true_data, false_data, true_labels, false_labels = split(data, labels, index, t)\n",
        "\n",
        "    # Рекурсивно строим два поддерева\n",
        "    true_branch = build_tree(true_data, true_labels, deep)\n",
        "    false_branch = build_tree(false_data, false_labels, deep)\n",
        "\n",
        "    # Возвращаем класс узла со всеми поддеревьями, то есть целого дерева\n",
        "    return Node(index, t, true_branch, false_branch)"
      ],
      "execution_count": 0,
      "outputs": []
    },
    {
      "cell_type": "code",
      "metadata": {
        "id": "mJR8QU6au3if",
        "colab_type": "code",
        "colab": {}
      },
      "source": [
        "def classify_object(obj, node):\n",
        "\n",
        "    #  Останавливаем рекурсию, если достигли листа\n",
        "    if isinstance(node, Leaf):\n",
        "        answer = node.prediction\n",
        "        return answer\n",
        "\n",
        "    if obj[node.index] <= node.t:\n",
        "        return classify_object(obj, node.true_branch)\n",
        "    else:\n",
        "        return classify_object(obj, node.false_branch)"
      ],
      "execution_count": 0,
      "outputs": []
    },
    {
      "cell_type": "code",
      "metadata": {
        "id": "XDlQFbccu8Q3",
        "colab_type": "code",
        "colab": {}
      },
      "source": [
        "def predict(data, tree):\n",
        "    \n",
        "    classes = []\n",
        "    for obj in data:\n",
        "        prediction = classify_object(obj, tree)\n",
        "        classes.append(prediction)\n",
        "    return classes"
      ],
      "execution_count": 0,
      "outputs": []
    },
    {
      "cell_type": "code",
      "metadata": {
        "id": "aEWVvEb_u-aW",
        "colab_type": "code",
        "colab": {}
      },
      "source": [
        "# Разобьем выборку на обучающую и тестовую\n",
        "\n",
        "from sklearn import model_selection\n",
        "\n",
        "train_data, test_data, train_labels, test_labels = model_selection.train_test_split(classification_data, \n",
        "                                                                                     classification_labels, \n",
        "                                                                                     test_size = 0.3,\n",
        "                                                                                     random_state = 1)"
      ],
      "execution_count": 0,
      "outputs": []
    },
    {
      "cell_type": "code",
      "metadata": {
        "id": "D7m40-XtvD2H",
        "colab_type": "code",
        "colab": {}
      },
      "source": [
        "# Построим дерево по обучающей выборке\n",
        "start_deep = 0\n",
        "my_tree = build_tree(train_data, train_labels, start_deep)"
      ],
      "execution_count": 0,
      "outputs": []
    },
    {
      "cell_type": "code",
      "metadata": {
        "id": "ePg-_wb7vHgv",
        "colab_type": "code",
        "colab": {}
      },
      "source": [
        "# Получим ответы для обучающей выборки \n",
        "train_answers = predict(train_data, my_tree)"
      ],
      "execution_count": 0,
      "outputs": []
    },
    {
      "cell_type": "code",
      "metadata": {
        "id": "up3YN3yXvaK4",
        "colab_type": "code",
        "colab": {}
      },
      "source": [
        "# И получим ответы для тестовой выборки\n",
        "answers = predict(test_data, my_tree)"
      ],
      "execution_count": 0,
      "outputs": []
    },
    {
      "cell_type": "code",
      "metadata": {
        "id": "jwlGPlfOvcNd",
        "colab_type": "code",
        "colab": {}
      },
      "source": [
        "# Введем функцию подсчета точности как доли правильных ответов\n",
        "def accuracy_metric(actual, predicted):\n",
        "    correct = 0\n",
        "    for i in range(len(actual)):\n",
        "        if actual[i] == predicted[i]:\n",
        "            correct += 1\n",
        "    return correct / float(len(actual)) * 100.0"
      ],
      "execution_count": 0,
      "outputs": []
    },
    {
      "cell_type": "code",
      "metadata": {
        "id": "vsPDMLfNveym",
        "colab_type": "code",
        "outputId": "b9f9cca9-825c-4cf0-8049-8bcdbe26a1d4",
        "colab": {
          "base_uri": "https://localhost:8080/",
          "height": 34
        }
      },
      "source": [
        "# Точность на обучающей выборке\n",
        "train_accuracy = accuracy_metric(train_labels, train_answers)\n",
        "train_accuracy"
      ],
      "execution_count": 0,
      "outputs": [
        {
          "output_type": "execute_result",
          "data": {
            "text/plain": [
              "92.85714285714286"
            ]
          },
          "metadata": {
            "tags": []
          },
          "execution_count": 17
        }
      ]
    },
    {
      "cell_type": "code",
      "metadata": {
        "id": "AM1OeglHvg1d",
        "colab_type": "code",
        "outputId": "14040412-6455-4344-ba4d-e6bf871f8aed",
        "colab": {
          "base_uri": "https://localhost:8080/",
          "height": 34
        }
      },
      "source": [
        "# Точность на тестовой выборке\n",
        "test_accuracy = accuracy_metric(test_labels, answers)\n",
        "test_accuracy"
      ],
      "execution_count": 0,
      "outputs": [
        {
          "output_type": "execute_result",
          "data": {
            "text/plain": [
              "96.66666666666667"
            ]
          },
          "metadata": {
            "tags": []
          },
          "execution_count": 18
        }
      ]
    },
    {
      "cell_type": "code",
      "metadata": {
        "id": "Jb13dFuGxOiM",
        "colab_type": "code",
        "outputId": "055d0e04-be51-443f-ce5f-0c914c5f35d4",
        "colab": {
          "base_uri": "https://localhost:8080/",
          "height": 461
        }
      },
      "source": [
        "# Визуализируем дерево на графике\n",
        "\n",
        "def get_meshgrid(data, step=.05, border=1.2):\n",
        "    x_min, x_max = data[:, 0].min() - border, data[:, 0].max() + border\n",
        "    y_min, y_max = data[:, 1].min() - border, data[:, 1].max() + border\n",
        "    return np.meshgrid(np.arange(x_min, x_max, step), np.arange(y_min, y_max, step))\n",
        "\n",
        "plt.figure(figsize = (16, 7))\n",
        "\n",
        "colors = ListedColormap(['red', 'blue'])\n",
        "light_colors = ListedColormap(['lightcoral', 'lightblue'])\n",
        "\n",
        "# график обучающей выборки\n",
        "plt.subplot(1,2,1)\n",
        "xx, yy = get_meshgrid(train_data)\n",
        "mesh_predictions = np.array(predict(np.c_[xx.ravel(), yy.ravel()], my_tree)).reshape(xx.shape)\n",
        "plt.pcolormesh(xx, yy, mesh_predictions, cmap = light_colors)\n",
        "plt.scatter(train_data[:, 0], train_data[:, 1], c = train_labels, cmap = colors)\n",
        "plt.title(f'Train accuracy={train_accuracy:.2f}')\n",
        "\n",
        "# график тестовой выборки\n",
        "plt.subplot(1,2,2)\n",
        "plt.pcolormesh(xx, yy, mesh_predictions, cmap = light_colors)\n",
        "plt.scatter(test_data[:, 0], test_data[:, 1], c = test_labels, cmap = colors)\n",
        "plt.title(f'Test accuracy={test_accuracy:.2f}')"
      ],
      "execution_count": 0,
      "outputs": [
        {
          "output_type": "execute_result",
          "data": {
            "text/plain": [
              "Text(0.5, 1.0, 'Test accuracy=96.67')"
            ]
          },
          "metadata": {
            "tags": []
          },
          "execution_count": 19
        },
        {
          "output_type": "display_data",
          "data": {
            "image/png": "[encoded data removed]",
            "text/plain": [
              "<Figure size 1152x504 with 2 Axes>"
            ]
          },
          "metadata": {
            "tags": []
          }
        }
      ]
    },
    {
      "cell_type": "markdown",
      "metadata": {
        "id": "K2U4Qcm357JV",
        "colab_type": "text"
      },
      "source": [
        "### Задание 2*. Реализуйте дерево для задачи регрессии. Возьмите за основу дерево, реализованное в методичке, заменив механизм предсказания в листе на взятие среднего значения по выборке, и критерий Джини на дисперсию значений.\n",
        "\n",
        "Для этой задачи я сгенерировал новый датасет для регрессии. Заменил функцию predict в классе Leaf на подсчет среднего по данным. Критерий Джинни заменил на подсчет дисперсии. В функции подсчета точности accuracy_metric высчитываю MSE, но никак не могу понять почему получаются какие-то заоблачные значения. Видимо это задание считается невыполненным."
      ]
    },
    {
      "cell_type": "code",
      "metadata": {
        "id": "1Pj9908n6EC8",
        "colab_type": "code",
        "colab": {}
      },
      "source": [
        "# сгенерируем данные\n",
        "data, target, coef = datasets.make_regression(n_samples=1000, n_features = 2, n_informative = 2, n_targets = 1, \n",
        "                                              noise = 5, coef = True, random_state = 2)\n"
      ],
      "execution_count": 0,
      "outputs": []
    },
    {
      "cell_type": "code",
      "metadata": {
        "id": "03x87yqf7RBV",
        "colab_type": "code",
        "colab": {}
      },
      "source": [
        "# Реализуем класс узла\n",
        "\n",
        "class Node:\n",
        "    \n",
        "    def __init__(self, index, t, true_branch, false_branch):\n",
        "        self.index = index  # индекс признака, по которому ведется сравнение с порогом в этом узле\n",
        "        self.t = t  # значение порога\n",
        "        self.true_branch = true_branch  # поддерево, удовлетворяющее условию в узле\n",
        "        self.false_branch = false_branch  # поддерево, не удовлетворяющее условию в узле"
      ],
      "execution_count": 0,
      "outputs": []
    },
    {
      "cell_type": "code",
      "metadata": {
        "id": "s2D-G2a97gws",
        "colab_type": "code",
        "colab": {}
      },
      "source": [
        "# И класс терминального узла (листа)\n",
        "\n",
        "class Leaf:\n",
        "    \n",
        "    def __init__(self, data, labels):\n",
        "        self.data = data\n",
        "        self.labels = labels\n",
        "        self.prediction = self.predict()\n",
        "        \n",
        "    def predict(self):\n",
        "        # Посчитаем среднее значение\n",
        "        prediction = np.mean(self.data)\n",
        "        return prediction "
      ],
      "execution_count": 0,
      "outputs": []
    },
    {
      "cell_type": "code",
      "metadata": {
        "id": "HiXJv3u37qym",
        "colab_type": "code",
        "colab": {}
      },
      "source": [
        "# Расчет дисперсии вместо критерия Джини\n",
        "\n",
        "def dispersion(labels):  \n",
        "    disp = sum((labels - np.mean(labels))**2) / len(labels)\n",
        "        \n",
        "    return disp"
      ],
      "execution_count": 0,
      "outputs": []
    },
    {
      "cell_type": "code",
      "metadata": {
        "id": "Mi6qX-9W7sYq",
        "colab_type": "code",
        "colab": {}
      },
      "source": [
        "# Расчет качества\n",
        "\n",
        "def quality(left_labels, right_labels, current_dispersion):\n",
        "\n",
        "    # доля выбоки, ушедшая в левое поддерево\n",
        "    p = float(left_labels.shape[0]) / (left_labels.shape[0] + right_labels.shape[0])\n",
        "    \n",
        "    return current_dispersion - p * dispersion(left_labels) - (1 - p) * dispersion(right_labels)"
      ],
      "execution_count": 0,
      "outputs": []
    },
    {
      "cell_type": "code",
      "metadata": {
        "id": "2YoOpIgb7tpC",
        "colab_type": "code",
        "colab": {}
      },
      "source": [
        "# Разбиение датасета в узле\n",
        "\n",
        "def split(data, labels, index, t):\n",
        "    \n",
        "    left = np.where(data[:, index] <= t)\n",
        "    right = np.where(data[:, index] > t)\n",
        "        \n",
        "    true_data = data[left]\n",
        "    false_data = data[right]\n",
        "    true_labels = labels[left]\n",
        "    false_labels = labels[right]\n",
        "        \n",
        "    return true_data, false_data, true_labels, false_labels"
      ],
      "execution_count": 0,
      "outputs": []
    },
    {
      "cell_type": "code",
      "metadata": {
        "id": "4yLEuBnj7u3D",
        "colab_type": "code",
        "colab": {}
      },
      "source": [
        "# Нахождение наилучшего разбиения\n",
        "\n",
        "def find_best_split(data, labels):\n",
        "    \n",
        "    #  обозначим минимальное количество объектов в узле\n",
        "    min_leaf = 5\n",
        "\n",
        "    current_dispersion = dispersion(labels)\n",
        "\n",
        "    best_quality = 0\n",
        "    best_t = None\n",
        "    best_index = None\n",
        "    \n",
        "    n_features = data.shape[1]\n",
        "    \n",
        "    for index in range(n_features):\n",
        "        # будем проверять только уникальные значения признака, исключая повторения\n",
        "        t_values = np.unique([row[index] for row in data])\n",
        "        \n",
        "        for t in t_values:\n",
        "            true_data, false_data, true_labels, false_labels = split(data, labels, index, t)\n",
        "            #  пропускаем разбиения, в которых в узле остается менее 5 объектов\n",
        "            if len(true_data) < min_leaf or len(false_data) < min_leaf:\n",
        "                continue\n",
        "            \n",
        "            current_quality = quality(true_labels, false_labels, current_dispersion)\n",
        "            \n",
        "            #  выбираем порог, на котором получается максимальный прирост качества\n",
        "            if current_quality > best_quality:\n",
        "                best_quality, best_t, best_index = current_quality, t, index\n",
        "\n",
        "    return best_quality, best_t, best_index"
      ],
      "execution_count": 0,
      "outputs": []
    },
    {
      "cell_type": "code",
      "metadata": {
        "id": "ju0wJbrA7wra",
        "colab_type": "code",
        "colab": {}
      },
      "source": [
        "# Построение дерева с помощью рекурсивной функции\n",
        "\n",
        "def build_tree(data, labels):\n",
        "\n",
        "    quality, t, index = find_best_split(data, labels)\n",
        "\n",
        "    #  Базовый случай - прекращаем рекурсию, когда нет прироста в качества\n",
        "    if quality == 0:\n",
        "        return Leaf(data, labels)\n",
        "\n",
        "    true_data, false_data, true_labels, false_labels = split(data, labels, index, t)\n",
        "\n",
        "    # Рекурсивно строим два поддерева\n",
        "    true_branch = build_tree(true_data, true_labels)\n",
        "    false_branch = build_tree(false_data, false_labels)\n",
        "\n",
        "    # Возвращаем класс узла со всеми поддеревьями, то есть целого дерева\n",
        "    return Node(index, t, true_branch, false_branch)"
      ],
      "execution_count": 0,
      "outputs": []
    },
    {
      "cell_type": "code",
      "metadata": {
        "id": "n0UHMyxS7ziq",
        "colab_type": "code",
        "colab": {}
      },
      "source": [
        "def classify_object(obj, node):\n",
        "\n",
        "    #  Останавливаем рекурсию, если достигли листа\n",
        "    if isinstance(node, Leaf):\n",
        "        answer = node.prediction\n",
        "        return answer\n",
        "\n",
        "    if obj[node.index] <= node.t:\n",
        "        return classify_object(obj, node.true_branch)\n",
        "    else:\n",
        "        return classify_object(obj, node.false_branch)"
      ],
      "execution_count": 0,
      "outputs": []
    },
    {
      "cell_type": "code",
      "metadata": {
        "id": "KYzs5_AH718l",
        "colab_type": "code",
        "colab": {}
      },
      "source": [
        "def predict(data, tree):\n",
        "    \n",
        "    classes = []\n",
        "    for obj in data:\n",
        "        prediction = classify_object(obj, tree)\n",
        "        classes.append(prediction)\n",
        "    return classes"
      ],
      "execution_count": 0,
      "outputs": []
    },
    {
      "cell_type": "code",
      "metadata": {
        "id": "qlREaY2S73ta",
        "colab_type": "code",
        "colab": {}
      },
      "source": [
        "# Разобьем выборку на обучающую и тестовую\n",
        "\n",
        "from sklearn import model_selection\n",
        "\n",
        "train_data, test_data, train_target, test_target = model_selection.train_test_split(data, \n",
        "                                                                                     target, \n",
        "                                                                                     test_size = 0.3,\n",
        "                                                                                     random_state = 1)"
      ],
      "execution_count": 0,
      "outputs": []
    },
    {
      "cell_type": "code",
      "metadata": {
        "id": "Z1EScuPF74W7",
        "colab_type": "code",
        "colab": {}
      },
      "source": [
        "# Построим дерево по обучающей выборке\n",
        "my_tree = build_tree(train_data, train_target)"
      ],
      "execution_count": 0,
      "outputs": []
    },
    {
      "cell_type": "code",
      "metadata": {
        "id": "TfSNOOUu7552",
        "colab_type": "code",
        "colab": {}
      },
      "source": [
        "# Получим ответы для обучающей выборки \n",
        "train_answers = predict(train_data, my_tree)"
      ],
      "execution_count": 0,
      "outputs": []
    },
    {
      "cell_type": "code",
      "metadata": {
        "id": "4GEfFZMO78CT",
        "colab_type": "code",
        "colab": {}
      },
      "source": [
        "# И получим ответы для тестовой выборки\n",
        "answers = predict(test_data, my_tree)"
      ],
      "execution_count": 0,
      "outputs": []
    },
    {
      "cell_type": "code",
      "metadata": {
        "id": "DemPkgKm7_gb",
        "colab_type": "code",
        "colab": {}
      },
      "source": [
        "# Введем функцию подсчета точности как доли правильных ответов\n",
        "def accuracy_metric(actual, predicted):\n",
        "    # correct = 0\n",
        "    # for i in range(len(actual)):\n",
        "    #     if actual[i] == predicted[i]:\n",
        "    #         correct += 1\n",
        "    # return correct / float(len(actual)) * 100.0\n",
        "    return np.sum((actual - predicted)**2) / len(actual)"
      ],
      "execution_count": 0,
      "outputs": []
    },
    {
      "cell_type": "code",
      "metadata": {
        "id": "R9Mv4smw8CW7",
        "colab_type": "code",
        "outputId": "6fae8186-f50b-49fa-92f6-53c69753f5bc",
        "colab": {
          "base_uri": "https://localhost:8080/",
          "height": 34
        }
      },
      "source": [
        "# Точность на обучающей выборке\n",
        "train_accuracy = accuracy_metric(train_target, train_answers)\n",
        "train_accuracy"
      ],
      "execution_count": 0,
      "outputs": [
        {
          "output_type": "execute_result",
          "data": {
            "text/plain": [
              "8570.771152087804"
            ]
          },
          "metadata": {
            "tags": []
          },
          "execution_count": 35
        }
      ]
    },
    {
      "cell_type": "code",
      "metadata": {
        "id": "zySlo-118Dhc",
        "colab_type": "code",
        "outputId": "9670b271-d58d-49fe-a49a-0454a31e55b7",
        "colab": {
          "base_uri": "https://localhost:8080/",
          "height": 34
        }
      },
      "source": [
        "# Точность на тестовой выборке\n",
        "test_accuracy = accuracy_metric(test_target, answers)\n",
        "test_accuracy"
      ],
      "execution_count": 0,
      "outputs": [
        {
          "output_type": "execute_result",
          "data": {
            "text/plain": [
              "6898.996211507291"
            ]
          },
          "metadata": {
            "tags": []
          },
          "execution_count": 36
        }
      ]
    },
    {
      "cell_type": "code",
      "metadata": {
        "id": "k6UHDxJZ8HNk",
        "colab_type": "code",
        "outputId": "27fd1c1f-ee30-4ba6-8b62-edd47d43fb43",
        "colab": {
          "base_uri": "https://localhost:8080/",
          "height": 461
        }
      },
      "source": [
        "# Визуализируем дерево на графике\n",
        "\n",
        "def get_meshgrid(data, step=.05, border=1.2):\n",
        "    x_min, x_max = data[:, 0].min() - border, data[:, 0].max() + border\n",
        "    y_min, y_max = data[:, 1].min() - border, data[:, 1].max() + border\n",
        "    return np.meshgrid(np.arange(x_min, x_max, step), np.arange(y_min, y_max, step))\n",
        "\n",
        "plt.figure(figsize = (16, 7))\n",
        "\n",
        "colors = ListedColormap(['red', 'blue'])\n",
        "light_colors = ListedColormap(['lightcoral', 'lightblue'])\n",
        "\n",
        "# график обучающей выборки\n",
        "plt.subplot(1,2,1)\n",
        "xx, yy = get_meshgrid(train_data)\n",
        "mesh_predictions = np.array(predict(np.c_[xx.ravel(), yy.ravel()], my_tree)).reshape(xx.shape)\n",
        "plt.pcolormesh(xx, yy, mesh_predictions, cmap = light_colors)\n",
        "plt.scatter(train_data[:, 0], train_data[:, 1], c = train_target, cmap = colors)\n",
        "plt.title(f'Train accuracy={train_accuracy:.2f}')\n",
        "\n",
        "# график тестовой выборки\n",
        "plt.subplot(1,2,2)\n",
        "plt.pcolormesh(xx, yy, mesh_predictions, cmap = light_colors)\n",
        "plt.scatter(test_data[:, 0], test_data[:, 1], c = test_target, cmap = colors)\n",
        "plt.title(f'Test accuracy={test_accuracy:.2f}')"
      ],
      "execution_count": 0,
      "outputs": [
        {
          "output_type": "execute_result",
          "data": {
            "text/plain": [
              "Text(0.5, 1.0, 'Test accuracy=6899.00')"
            ]
          },
          "metadata": {
            "tags": []
          },
          "execution_count": 37
        },
        {
          "output_type": "display_data",
          "data": {
            "image/png": "[encoded data removed]",
            "text/plain": [
              "<Figure size 1152x504 with 2 Axes>"
            ]
          },
          "metadata": {
            "tags": []
          }
        }
      ]
    }
  ]
}