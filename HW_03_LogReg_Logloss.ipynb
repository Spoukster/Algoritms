{
  "nbformat": 4,
  "nbformat_minor": 0,
  "metadata": {
    "kernelspec": {
      "display_name": "Python 3",
      "language": "python",
      "name": "python3"
    },
    "language_info": {
      "codemirror_mode": {
        "name": "ipython",
        "version": 3
      },
      "file_extension": ".py",
      "mimetype": "text/x-python",
      "name": "python",
      "nbconvert_exporter": "python",
      "pygments_lexer": "ipython3",
      "version": "3.7.4"
    },
    "colab": {
      "name": "HW_03_LogReg_Logloss.ipynb",
      "provenance": [],
      "collapsed_sections": []
    }
  },
  "cells": [
    {
      "cell_type": "code",
      "metadata": {
        "id": "dZ9O9dgv9PfN",
        "colab_type": "code",
        "colab": {}
      },
      "source": [
        "import numpy as np\n",
        "import matplotlib.pyplot as plt\n",
        "%matplotlib inline"
      ],
      "execution_count": 0,
      "outputs": []
    },
    {
      "cell_type": "code",
      "metadata": {
        "id": "q9EQlkz59Pfd",
        "colab_type": "code",
        "colab": {}
      },
      "source": [
        "X = np.array([[1, 1, 1, 1, 1, 1, 1, 1, 1, 1],\n",
        "              [1, 1, 2, 1, 3, 0, 5, 10, 1, 2],\n",
        "              [500, 700, 750, 600, 1450,\n",
        "               800, 1500, 2000, 450, 1000],\n",
        "              [1, 1, 2, 1, 2, 1, 3, 3, 1, 2]], dtype = np.float64)\n",
        "y = np.array([0, 0, 1, 0, 1, 0, 1, 0, 1, 1], dtype = np.float64)"
      ],
      "execution_count": 0,
      "outputs": []
    },
    {
      "cell_type": "code",
      "metadata": {
        "id": "JVc6649S9Pft",
        "colab_type": "code",
        "colab": {}
      },
      "source": [
        "def calc_std_feat(x):\n",
        "    res = (x - x.mean()) / x.std()\n",
        "    return res"
      ],
      "execution_count": 0,
      "outputs": []
    },
    {
      "cell_type": "code",
      "metadata": {
        "id": "QNEOgWl69Pf3",
        "colab_type": "code",
        "colab": {}
      },
      "source": [
        "X_st = X.copy()\n",
        "X_st[2, :] = calc_std_feat(X[2, :])"
      ],
      "execution_count": 0,
      "outputs": []
    },
    {
      "cell_type": "markdown",
      "metadata": {
        "id": "ONgxI_Qz9PgH",
        "colab_type": "text"
      },
      "source": [
        "### Задание 1*. Измените функцию calc_logloss так, чтобы нули по возможности не попадали в np.log.\n",
        "Для этого можно 0 заменить на крайне малое значение х, а 1 заменить на 1-х."
      ]
    },
    {
      "cell_type": "code",
      "metadata": {
        "id": "U2Qk5HRN9PgK",
        "colab_type": "code",
        "colab": {}
      },
      "source": [
        "def calc_logloss(y, y_pred):\n",
        "    for i in range(len(y_pred)):\n",
        "        if y_pred[i] == 0:\n",
        "            y_pred[i] = 1e-10\n",
        "        elif y_pred[i] == 1:\n",
        "            y_pred[i] = 1 - 1e-10\n",
        "    err = - np.mean(y * np.log(y_pred) + (1.0 - y) * np.log(1.0 - y_pred))\n",
        "    return err"
      ],
      "execution_count": 0,
      "outputs": []
    },
    {
      "cell_type": "code",
      "metadata": {
        "id": "T453juSC9PgU",
        "colab_type": "code",
        "outputId": "cab4299b-ce87-4f2d-c271-eb81296a847e",
        "colab": {
          "base_uri": "https://localhost:8080/",
          "height": 34
        }
      },
      "source": [
        "# Пример применения\n",
        "y1 = np.array([1, 0], dtype = np.float64)\n",
        "y_pred1 = np.array([1, 0], dtype = np.float64)\n",
        "calc_logloss(y1, y_pred1)"
      ],
      "execution_count": 6,
      "outputs": [
        {
          "output_type": "execute_result",
          "data": {
            "text/plain": [
              "1.000000082790371e-10"
            ]
          },
          "metadata": {
            "tags": []
          },
          "execution_count": 6
        }
      ]
    },
    {
      "cell_type": "markdown",
      "metadata": {
        "id": "YPUg1Wq-9Pgu",
        "colab_type": "text"
      },
      "source": [
        "### Задание 2. Подберите аргументы функции eval_model для логистической регрессии таким образом, чтобы log loss был минимальным.\n",
        "Для нахождения минимального значения log loss я добавил L2 регуляризацию для отслеживания переобучения. При, примерно, 38400 итерациях достигается минимум log loss, далее увеличивается (оставил большее значение для наглядности) "
      ]
    },
    {
      "cell_type": "code",
      "metadata": {
        "id": "3DR9VS349Pgx",
        "colab_type": "code",
        "colab": {}
      },
      "source": [
        "def sigmoid(z):\n",
        "    res = 1 / (1 + np.exp(-z))\n",
        "    return res"
      ],
      "execution_count": 0,
      "outputs": []
    },
    {
      "cell_type": "code",
      "metadata": {
        "id": "tIWEAw1-9PhE",
        "colab_type": "code",
        "outputId": "7c7dd640-687c-4c0a-f145-bb9a975e65ea",
        "colab": {
          "base_uri": "https://localhost:8080/",
          "height": 187
        }
      },
      "source": [
        "def eval_model(X, y, lambda_, iterations, alpha=1e-4):\n",
        "    np.random.seed(42)\n",
        "    W = np.random.randn(X.shape[0])\n",
        "    n = X.shape[1]\n",
        "    for i in range(1, iterations+1):\n",
        "        z = np.dot(W, X)\n",
        "        y_pred = sigmoid(z)\n",
        "        err = calc_logloss(y, y_pred)\n",
        "        W -= alpha * (1/n * np.dot((y_pred - y), X.T) + lambda_ * W)\n",
        "        if i % (iterations / 10) == 0:\n",
        "            print(i, W, err)\n",
        "    return W\n",
        "W = eval_model(X_st, y, lambda_=0.1, iterations=39000, alpha=1e-4)"
      ],
      "execution_count": 8,
      "outputs": [
        {
          "output_type": "stream",
          "text": [
            "3900 [ 0.35230568 -0.50896773  0.61707646  1.28487543] 0.679926706797577\n",
            "7800 [ 0.26681776 -0.61211694  0.61886     1.16711883] 0.5994949611355047\n",
            "11700 [ 0.20824826 -0.61590202  0.63035531  1.10131966] 0.5865273745929522\n",
            "15600 [ 0.16137139 -0.59727746  0.64045581  1.05380279] 0.580361731162199\n",
            "19500 [ 0.1214467  -0.57464215  0.64728136  1.01503588] 0.5764301202094081\n",
            "23400 [ 0.08663724 -0.55293752  0.65080671  0.98184184] 0.5739171423661031\n",
            "27300 [ 0.05601548 -0.53327422  0.65146475  0.95295418] 0.5724096356134503\n",
            "31200 [ 0.02896075 -0.51569556  0.64976035  0.92768926] 0.5716132244399516\n",
            "35100 [ 0.00497994 -0.49999398  0.64615973  0.90555497] 0.5713124462047323\n",
            "39000 [-0.01634475 -0.48593318  0.64106562  0.88614261] 0.5713510780945045\n"
          ],
          "name": "stdout"
        }
      ]
    },
    {
      "cell_type": "markdown",
      "metadata": {
        "id": "-NDWjNwA9PhO",
        "colab_type": "text"
      },
      "source": [
        "### Задание 3. Создайте функцию calc_pred_proba, возвращающую предсказанную вероятность класса 1 (на вход подаются W, который уже посчитан функцией eval_model и X, на выходе - массив y_pred_proba)."
      ]
    },
    {
      "cell_type": "code",
      "metadata": {
        "id": "UGZ7hXcM9PhR",
        "colab_type": "code",
        "colab": {}
      },
      "source": [
        "def calc_pred_proba(W, X):\n",
        "    z = np.dot(W, X)\n",
        "    y_pred_proba = sigmoid(z)\n",
        "    return y_pred_proba"
      ],
      "execution_count": 0,
      "outputs": []
    },
    {
      "cell_type": "code",
      "metadata": {
        "id": "laq8LH5W9Phd",
        "colab_type": "code",
        "outputId": "91ef7476-13d9-48b9-f539-e4619b3e7eff",
        "colab": {
          "base_uri": "https://localhost:8080/",
          "height": 51
        }
      },
      "source": [
        "calc_pred_proba(W, X_st)"
      ],
      "execution_count": 10,
      "outputs": [
        {
          "output_type": "execute_result",
          "data": {
            "text/plain": [
              "array([0.43927213, 0.50507397, 0.61930734, 0.47205166, 0.7162879 ,\n",
              "       0.65439991, 0.71228378, 0.29689425, 0.42306107, 0.69362588])"
            ]
          },
          "metadata": {
            "tags": []
          },
          "execution_count": 10
        }
      ]
    },
    {
      "cell_type": "markdown",
      "metadata": {
        "id": "U4f9vov-9Pho",
        "colab_type": "text"
      },
      "source": [
        "### Задание 4. Создайте функцию calc_pred, возвращающую предсказанный класс (на вход подаются W, который уже посчитан функцией eval_model и X, на выходе - массив y_pred)."
      ]
    },
    {
      "cell_type": "code",
      "metadata": {
        "id": "6EN7W9Qk9Phr",
        "colab_type": "code",
        "colab": {}
      },
      "source": [
        "def calc_pred(W, X):\n",
        "    n = X.shape[1]\n",
        "    \n",
        "    y_pred = np.zeros(n)\n",
        "    z = np.dot(W, X)\n",
        "    y_pred_proba = sigmoid(z)\n",
        "    for i in range(y_pred_proba.shape[0]):\n",
        "        if y_pred_proba[i] >= 0.5:\n",
        "            y_pred[i] = 1\n",
        "        elif y_pred_proba[i] < 0.5:\n",
        "            y_pred[i] = 0\n",
        "    return y_pred\n",
        "    "
      ],
      "execution_count": 0,
      "outputs": []
    },
    {
      "cell_type": "code",
      "metadata": {
        "id": "MpESgnl69Ph2",
        "colab_type": "code",
        "outputId": "e43ef5ae-1536-4d0b-bb41-02c9b7134034",
        "colab": {
          "base_uri": "https://localhost:8080/",
          "height": 34
        }
      },
      "source": [
        "y_pred = calc_pred(W, X_st)\n",
        "y_pred"
      ],
      "execution_count": 12,
      "outputs": [
        {
          "output_type": "execute_result",
          "data": {
            "text/plain": [
              "array([0., 1., 1., 0., 1., 1., 1., 0., 0., 1.])"
            ]
          },
          "metadata": {
            "tags": []
          },
          "execution_count": 12
        }
      ]
    },
    {
      "cell_type": "markdown",
      "metadata": {
        "id": "BE59DfYs9PiB",
        "colab_type": "text"
      },
      "source": [
        "### Задание 5. Посчитайте Accuracy, матрицу ошибок, точность и полноту, а также F1 score."
      ]
    },
    {
      "cell_type": "code",
      "metadata": {
        "id": "pYO2CHxZ9PiE",
        "colab_type": "code",
        "colab": {}
      },
      "source": [
        "# Accuracy\n",
        "def accuracy(y_, y_pred_):\n",
        "    counter = 0\n",
        "    for i in range(len(y_)):\n",
        "        if y_[i] == y_pred_[i]:\n",
        "            counter += 1\n",
        "    acc = counter / len(y_)\n",
        "    return acc"
      ],
      "execution_count": 0,
      "outputs": []
    },
    {
      "cell_type": "code",
      "metadata": {
        "id": "jaTEhC_DR4-z",
        "colab_type": "code",
        "colab": {
          "base_uri": "https://localhost:8080/",
          "height": 34
        },
        "outputId": "7836f22d-6150-40f3-884a-51e27eb059ec"
      },
      "source": [
        "accuracy(y, y_pred)"
      ],
      "execution_count": 14,
      "outputs": [
        {
          "output_type": "execute_result",
          "data": {
            "text/plain": [
              "0.7"
            ]
          },
          "metadata": {
            "tags": []
          },
          "execution_count": 14
        }
      ]
    },
    {
      "cell_type": "code",
      "metadata": {
        "id": "1hZEvWNWR9ek",
        "colab_type": "code",
        "colab": {}
      },
      "source": [
        "# Матрица ошибок\n",
        "def error_matrix(y_, y_pred_):\n",
        "    TP = FP = FN = TN = 0\n",
        "    for i in range(len(y)):\n",
        "        if y_pred_[i] == 1 and y_[i] == 1:\n",
        "            TP += 1\n",
        "        elif y_pred_[i] == 1 and y_[i] == 0:\n",
        "            FP += 1\n",
        "        elif y_pred_[i] == 0 and y_[i] == 1:\n",
        "            FN += 1\n",
        "        elif y_pred_[i] == 0 and y_[i] == 0:\n",
        "            TN += 1\n",
        "    return TP, FP, FN, TN"
      ],
      "execution_count": 0,
      "outputs": []
    },
    {
      "cell_type": "code",
      "metadata": {
        "id": "_CCkAQwibG2f",
        "colab_type": "code",
        "colab": {
          "base_uri": "https://localhost:8080/",
          "height": 51
        },
        "outputId": "563ea4a4-d26c-48cd-f7a8-3d056c5f9a99"
      },
      "source": [
        "TP, FP, FN, TN = error_matrix(y, y_pred)\n",
        "print(TP, FP)\n",
        "print(FN, TN)"
      ],
      "execution_count": 16,
      "outputs": [
        {
          "output_type": "stream",
          "text": [
            "4 2\n",
            "1 3\n"
          ],
          "name": "stdout"
        }
      ]
    },
    {
      "cell_type": "code",
      "metadata": {
        "id": "nBokRceScxUp",
        "colab_type": "code",
        "colab": {}
      },
      "source": [
        "# Точность\n",
        "def precision(TP, FP):\n",
        "    return TP / (TP + FP)"
      ],
      "execution_count": 0,
      "outputs": []
    },
    {
      "cell_type": "code",
      "metadata": {
        "id": "bLUOLdlCeuvm",
        "colab_type": "code",
        "colab": {
          "base_uri": "https://localhost:8080/",
          "height": 34
        },
        "outputId": "92253c39-c775-4249-dd7e-bb43d530c960"
      },
      "source": [
        "prec = precision(TP, FP)\n",
        "prec"
      ],
      "execution_count": 18,
      "outputs": [
        {
          "output_type": "execute_result",
          "data": {
            "text/plain": [
              "0.6666666666666666"
            ]
          },
          "metadata": {
            "tags": []
          },
          "execution_count": 18
        }
      ]
    },
    {
      "cell_type": "code",
      "metadata": {
        "id": "YpEgBqDpeyVS",
        "colab_type": "code",
        "colab": {}
      },
      "source": [
        "# Полнота\n",
        "def recall(TP, FN):\n",
        "    return TP / (TP + FN)"
      ],
      "execution_count": 0,
      "outputs": []
    },
    {
      "cell_type": "code",
      "metadata": {
        "id": "_KI2jDa7fV2s",
        "colab_type": "code",
        "colab": {
          "base_uri": "https://localhost:8080/",
          "height": 34
        },
        "outputId": "15697182-a7d0-45da-e9ff-f39499d6e4a1"
      },
      "source": [
        "rec = recall(TP, FN)\n",
        "rec"
      ],
      "execution_count": 20,
      "outputs": [
        {
          "output_type": "execute_result",
          "data": {
            "text/plain": [
              "0.8"
            ]
          },
          "metadata": {
            "tags": []
          },
          "execution_count": 20
        }
      ]
    },
    {
      "cell_type": "code",
      "metadata": {
        "id": "jX_yolu7fYSo",
        "colab_type": "code",
        "colab": {}
      },
      "source": [
        "# F1 score\n",
        "def F1(prec_, rec_):\n",
        "    return 2 * prec_ * rec_ / (prec_ + rec_)"
      ],
      "execution_count": 0,
      "outputs": []
    },
    {
      "cell_type": "code",
      "metadata": {
        "id": "pyAPFeTCgg1N",
        "colab_type": "code",
        "colab": {
          "base_uri": "https://localhost:8080/",
          "height": 34
        },
        "outputId": "883de43d-31a4-4912-cde3-0ff1384b8a9a"
      },
      "source": [
        "F1(prec, rec)"
      ],
      "execution_count": 22,
      "outputs": [
        {
          "output_type": "execute_result",
          "data": {
            "text/plain": [
              "0.7272727272727272"
            ]
          },
          "metadata": {
            "tags": []
          },
          "execution_count": 22
        }
      ]
    },
    {
      "cell_type": "markdown",
      "metadata": {
        "id": "hWhAoi__gylV",
        "colab_type": "text"
      },
      "source": [
        "### Задание 6. Могла ли модель переобучиться? Почему?\n",
        "Да, может. Если не делать регуляризацию, то видно как уменьшается ошибка при увеличении количества итераций, но при этом веса признаков становятся огромными."
      ]
    },
    {
      "cell_type": "markdown",
      "metadata": {
        "id": "88SO3Dz7hjYA",
        "colab_type": "text"
      },
      "source": [
        "### Задание 7*. Создайте функции eval_model_l1 и eval_model_l2 с применением L1 и L2 регуляризаций соответственно."
      ]
    },
    {
      "cell_type": "code",
      "metadata": {
        "id": "L1EwsHughj9n",
        "colab_type": "code",
        "colab": {
          "base_uri": "https://localhost:8080/",
          "height": 187
        },
        "outputId": "baa5eef2-474c-4705-d428-e761b99d1fce"
      },
      "source": [
        "def eval_model_l1(X, y, lambda_, iterations, alpha=1e-4):\n",
        "    np.random.seed(42)\n",
        "    W = np.random.randn(X.shape[0])\n",
        "    n = X.shape[1]\n",
        "    for i in range(1, iterations+1):\n",
        "        z = np.dot(W, X)\n",
        "        y_pred = sigmoid(z)\n",
        "        err = calc_logloss(y, y_pred)\n",
        "        W -= alpha * (1/n * np.dot((y_pred - y), X.T) + lambda_/2 * np.sign(W))\n",
        "        if i % (iterations / 10) == 0:\n",
        "            print(i, W, err)\n",
        "    return W\n",
        "W = eval_model_l1(X_st, y, lambda_=0.1, iterations=39000, alpha=1e-4)"
      ],
      "execution_count": 23,
      "outputs": [
        {
          "output_type": "stream",
          "text": [
            "3900 [ 0.34766973 -0.50868291  0.62167531  1.31689266] 0.689062978951687\n",
            "7800 [ 0.25156984 -0.6259443   0.62687299  1.22104767] 0.5998794781737434\n",
            "11700 [ 0.18005463 -0.64048724  0.64301706  1.17484529] 0.5838095477229925\n",
            "15600 [ 0.11853861 -0.62990544  0.65840861  1.14535801] 0.5752282405854603\n",
            "19500 [ 0.06258281 -0.6132923   0.67075469  1.12325721] 0.5689510763808466\n",
            "23400 [ 0.01057162 -0.59621473  0.67969824  1.10547582] 0.5641393751558492\n",
            "27300 [-0.00832512 -0.58191946  0.68562502  1.08958682] 0.5626137357781036\n",
            "31200 [-0.01820638 -0.57157868  0.68961691  1.07367958] 0.5620162436022527\n",
            "35100 [-0.02704015 -0.56281868  0.69222863  1.05864386] 0.5616386642311361\n",
            "39000 [-0.03483239 -0.55490414  0.69372095  1.04465476] 0.5614450167587477\n"
          ],
          "name": "stdout"
        }
      ]
    },
    {
      "cell_type": "code",
      "metadata": {
        "id": "J47PuhHJh7AA",
        "colab_type": "code",
        "colab": {
          "base_uri": "https://localhost:8080/",
          "height": 187
        },
        "outputId": "e84df990-f802-46bb-a790-6f9bb728e5ef"
      },
      "source": [
        "def eval_model_l2(X, y, lambda_, iterations, alpha=1e-4):\n",
        "    np.random.seed(42)\n",
        "    W = np.random.randn(X.shape[0])\n",
        "    n = X.shape[1]\n",
        "    for i in range(1, iterations+1):\n",
        "        z = np.dot(W, X)\n",
        "        y_pred = sigmoid(z)\n",
        "        err = calc_logloss(y, y_pred)\n",
        "        W -= alpha * (1/n * np.dot((y_pred - y), X.T) + lambda_ * W)\n",
        "        if i % (iterations / 10) == 0:\n",
        "            print(i, W, err)\n",
        "    return W\n",
        "W = eval_model_l2(X_st, y, lambda_=0.1, iterations=39000, alpha=1e-4)"
      ],
      "execution_count": 24,
      "outputs": [
        {
          "output_type": "stream",
          "text": [
            "3900 [ 0.35230568 -0.50896773  0.61707646  1.28487543] 0.679926706797577\n",
            "7800 [ 0.26681776 -0.61211694  0.61886     1.16711883] 0.5994949611355047\n",
            "11700 [ 0.20824826 -0.61590202  0.63035531  1.10131966] 0.5865273745929522\n",
            "15600 [ 0.16137139 -0.59727746  0.64045581  1.05380279] 0.580361731162199\n",
            "19500 [ 0.1214467  -0.57464215  0.64728136  1.01503588] 0.5764301202094081\n",
            "23400 [ 0.08663724 -0.55293752  0.65080671  0.98184184] 0.5739171423661031\n",
            "27300 [ 0.05601548 -0.53327422  0.65146475  0.95295418] 0.5724096356134503\n",
            "31200 [ 0.02896075 -0.51569556  0.64976035  0.92768926] 0.5716132244399516\n",
            "35100 [ 0.00497994 -0.49999398  0.64615973  0.90555497] 0.5713124462047323\n",
            "39000 [-0.01634475 -0.48593318  0.64106562  0.88614261] 0.5713510780945045\n"
          ],
          "name": "stdout"
        }
      ]
    },
    {
      "cell_type": "code",
      "metadata": {
        "id": "SeCBJ0uKiV1X",
        "colab_type": "code",
        "colab": {}
      },
      "source": [
        ""
      ],
      "execution_count": 0,
      "outputs": []
    }
  ]
}